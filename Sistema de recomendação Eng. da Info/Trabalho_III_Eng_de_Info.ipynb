{
  "nbformat": 4,
  "nbformat_minor": 0,
  "metadata": {
    "colab": {
      "provenance": []
    },
    "kernelspec": {
      "name": "python3",
      "display_name": "Python 3"
    },
    "language_info": {
      "name": "python"
    }
  },
  "cells": [
    {
      "cell_type": "markdown",
      "source": [
        "Sistema de Recomendação\n",
        "\n",
        "\n",
        "https://www.kaggle.com/datasets/siddharthmandgi/tripadvisor-restaurant-recommendation-data-usa"
      ],
      "metadata": {
        "id": "17T_NtWb_hpi"
      }
    },
    {
      "cell_type": "code",
      "execution_count": null,
      "metadata": {
        "id": "2-n2Uubv_f89"
      },
      "outputs": [],
      "source": [
        "import os\n",
        "import pandas as pd\n",
        "import numpy as np\n",
        "import matplotlib.pyplot as plt\n",
        "import seaborn as sns\n",
        "import missingno as msno\n",
        "from scipy import stats\n",
        "import scipy.stats as st"
      ]
    },
    {
      "cell_type": "code",
      "source": [
        "df = pd.read_csv('/content/TripAdvisor_RestauarantRecommendation.csv')"
      ],
      "metadata": {
        "id": "Y5aTgcSOAG63"
      },
      "execution_count": null,
      "outputs": []
    },
    {
      "cell_type": "code",
      "source": [
        "df.sample(10)"
      ],
      "metadata": {
        "colab": {
          "base_uri": "https://localhost:8080/",
          "height": 1000
        },
        "id": "X8-pyqv5AJGR",
        "outputId": "1708936b-34ed-4f3a-c1e5-3256dee93272"
      },
      "execution_count": null,
      "outputs": [
        {
          "output_type": "execute_result",
          "data": {
            "text/plain": [
              "                                 Name                      Street Address  \\\n",
              "1876       Bill's Cafe on the Alameda                    2089 The Alameda   \n",
              "1802                 Xian Famous Food                4128 Main St Bsmt 36   \n",
              "403               King's Blu Jam Cafe                     4711 Louetta Rd   \n",
              "398   Toulouse Petit Kitchen & Lounge                601 Queen Anne Ave N   \n",
              "2772                  Saya Restaurant                     8455 S 212th St   \n",
              "1307               Dinosaur Bar-B-Que                       224 Market St   \n",
              "1124          The Grange Bar & Eatery                  1635 Amsterdam Ave   \n",
              "72                     Red Apple Cafe                   488 W Herndon Ave   \n",
              "2212                   Peyrassol Cafe  1083 Lake Washington Blvd N Ste 30   \n",
              "1994        Ponzio's Diner-Bakery-Bar                    7 Marlton Pike W   \n",
              "\n",
              "                          Location  \\\n",
              "1876       San Jose, CA 95126-1136   \n",
              "1802       Flushing, NY 11355-3177   \n",
              "403          Spring, TX 77388-4351   \n",
              "398         Seattle, WA 98109-4013   \n",
              "2772           Kent, WA 98031-1950   \n",
              "1307         Newark, NJ 07102-3708   \n",
              "1124  New York City, NY 10031-6103   \n",
              "72           Fresno, CA 93650-1329   \n",
              "2212         Renton, WA 98056-6459   \n",
              "1994    Cherry Hill, NJ 08002-3098   \n",
              "\n",
              "                                                Type           Reviews  \\\n",
              "1876                           American, Cafe, Diner  4.5 of 5 bubbles   \n",
              "1802                       Chinese, Fast Food, Asian    4 of 5 bubbles   \n",
              "403                             Cafe, Cajun & Creole    5 of 5 bubbles   \n",
              "398    American, Cajun & Creole, Vegetarian Friendly  4.5 of 5 bubbles   \n",
              "2772                Asian, Thai, Vegetarian Friendly  4.5 of 5 bubbles   \n",
              "1307                         American, Bar, Barbecue    4 of 5 bubbles   \n",
              "1124              American, Bar, Vegetarian Friendly  4.5 of 5 bubbles   \n",
              "72               American, Cafe, Vegetarian Friendly  4.5 of 5 bubbles   \n",
              "2212           European, French, Vegetarian Friendly  4.5 of 5 bubbles   \n",
              "1994            American, Diner, Vegetarian Friendly    4 of 5 bubbles   \n",
              "\n",
              "      No of Reviews                                           Comments  \\\n",
              "1876    155 reviews                                                NaN   \n",
              "1802     87 reviews  If you have an appetite for spicy food and nod...   \n",
              "403      16 reviews  Had a family member tell about this place.  Th...   \n",
              "398   1,578 reviews  I loved everything about this restaurant. Like...   \n",
              "2772     27 reviews  The service was quick and friendly. It seemed ...   \n",
              "1307    506 reviews  My party of 10 people came here on Saturday th...   \n",
              "1124    190 reviews  I went at the grange bar with friends in a col...   \n",
              "72       87 reviews                                                NaN   \n",
              "2212    183 reviews  My husband and I love this restaurant. Everyth...   \n",
              "1994    381 reviews  I enjoyed my meal at Ponzio’s. It has a wide v...   \n",
              "\n",
              "       Contact Number                                   Trip_advisor Url  \\\n",
              "1876  +1 408-244-9085  https://www.tripadvisor.com//Restaurant_Review...   \n",
              "1802  +1 347-294-0022  https://www.tripadvisor.com//Restaurant_Review...   \n",
              "403   +1 713-389-5555  https://www.tripadvisor.com//Restaurant_Review...   \n",
              "398   +1 206-432-9069  https://www.tripadvisor.com//Restaurant_Review...   \n",
              "2772  +1 253-395-7987  https://www.tripadvisor.com//Restaurant_Review...   \n",
              "1307  +1 862-214-6100  https://www.tripadvisor.com//Restaurant_Review...   \n",
              "1124  +1 212-491-1635  https://www.tripadvisor.com//Restaurant_Review...   \n",
              "72    +1 559-261-1505  https://www.tripadvisor.com//Restaurant_Review...   \n",
              "2212  +1 425-282-5472  https://www.tripadvisor.com//Restaurant_Review...   \n",
              "1994  +1 856-428-4808  https://www.tripadvisor.com//Restaurant_Review...   \n",
              "\n",
              "                                                   Menu Price_Range  \n",
              "1876                       Check The Website for a Menu    $$ - $$$  \n",
              "1802                       Check The Website for a Menu           $  \n",
              "403   https://img1.wsimg.com/blobby/go/7d01b5de-2694...    $$ - $$$  \n",
              "398                        Check The Website for a Menu    $$ - $$$  \n",
              "2772  https://openmenu.com/restaurant/57a0755e-ebff-...           $  \n",
              "1307                       Check The Website for a Menu    $$ - $$$  \n",
              "1124  https://thegrangebarnyc.com/new-york-hamilton-...    $$ - $$$  \n",
              "72                         Check The Website for a Menu    $$ - $$$  \n",
              "2212                       Check The Website for a Menu    $$ - $$$  \n",
              "1994                       Check The Website for a Menu    $$ - $$$  "
            ],
            "text/html": [
              "\n",
              "  <div id=\"df-4c7973df-7200-4a14-9eeb-5312540801ad\">\n",
              "    <div class=\"colab-df-container\">\n",
              "      <div>\n",
              "<style scoped>\n",
              "    .dataframe tbody tr th:only-of-type {\n",
              "        vertical-align: middle;\n",
              "    }\n",
              "\n",
              "    .dataframe tbody tr th {\n",
              "        vertical-align: top;\n",
              "    }\n",
              "\n",
              "    .dataframe thead th {\n",
              "        text-align: right;\n",
              "    }\n",
              "</style>\n",
              "<table border=\"1\" class=\"dataframe\">\n",
              "  <thead>\n",
              "    <tr style=\"text-align: right;\">\n",
              "      <th></th>\n",
              "      <th>Name</th>\n",
              "      <th>Street Address</th>\n",
              "      <th>Location</th>\n",
              "      <th>Type</th>\n",
              "      <th>Reviews</th>\n",
              "      <th>No of Reviews</th>\n",
              "      <th>Comments</th>\n",
              "      <th>Contact Number</th>\n",
              "      <th>Trip_advisor Url</th>\n",
              "      <th>Menu</th>\n",
              "      <th>Price_Range</th>\n",
              "    </tr>\n",
              "  </thead>\n",
              "  <tbody>\n",
              "    <tr>\n",
              "      <th>1876</th>\n",
              "      <td>Bill's Cafe on the Alameda</td>\n",
              "      <td>2089 The Alameda</td>\n",
              "      <td>San Jose, CA 95126-1136</td>\n",
              "      <td>American, Cafe, Diner</td>\n",
              "      <td>4.5 of 5 bubbles</td>\n",
              "      <td>155 reviews</td>\n",
              "      <td>NaN</td>\n",
              "      <td>+1 408-244-9085</td>\n",
              "      <td>https://www.tripadvisor.com//Restaurant_Review...</td>\n",
              "      <td>Check The Website for a Menu</td>\n",
              "      <td>$$ - $$$</td>\n",
              "    </tr>\n",
              "    <tr>\n",
              "      <th>1802</th>\n",
              "      <td>Xian Famous Food</td>\n",
              "      <td>4128 Main St Bsmt 36</td>\n",
              "      <td>Flushing, NY 11355-3177</td>\n",
              "      <td>Chinese, Fast Food, Asian</td>\n",
              "      <td>4 of 5 bubbles</td>\n",
              "      <td>87 reviews</td>\n",
              "      <td>If you have an appetite for spicy food and nod...</td>\n",
              "      <td>+1 347-294-0022</td>\n",
              "      <td>https://www.tripadvisor.com//Restaurant_Review...</td>\n",
              "      <td>Check The Website for a Menu</td>\n",
              "      <td>$</td>\n",
              "    </tr>\n",
              "    <tr>\n",
              "      <th>403</th>\n",
              "      <td>King's Blu Jam Cafe</td>\n",
              "      <td>4711 Louetta Rd</td>\n",
              "      <td>Spring, TX 77388-4351</td>\n",
              "      <td>Cafe, Cajun &amp; Creole</td>\n",
              "      <td>5 of 5 bubbles</td>\n",
              "      <td>16 reviews</td>\n",
              "      <td>Had a family member tell about this place.  Th...</td>\n",
              "      <td>+1 713-389-5555</td>\n",
              "      <td>https://www.tripadvisor.com//Restaurant_Review...</td>\n",
              "      <td>https://img1.wsimg.com/blobby/go/7d01b5de-2694...</td>\n",
              "      <td>$$ - $$$</td>\n",
              "    </tr>\n",
              "    <tr>\n",
              "      <th>398</th>\n",
              "      <td>Toulouse Petit Kitchen &amp; Lounge</td>\n",
              "      <td>601 Queen Anne Ave N</td>\n",
              "      <td>Seattle, WA 98109-4013</td>\n",
              "      <td>American, Cajun &amp; Creole, Vegetarian Friendly</td>\n",
              "      <td>4.5 of 5 bubbles</td>\n",
              "      <td>1,578 reviews</td>\n",
              "      <td>I loved everything about this restaurant. Like...</td>\n",
              "      <td>+1 206-432-9069</td>\n",
              "      <td>https://www.tripadvisor.com//Restaurant_Review...</td>\n",
              "      <td>Check The Website for a Menu</td>\n",
              "      <td>$$ - $$$</td>\n",
              "    </tr>\n",
              "    <tr>\n",
              "      <th>2772</th>\n",
              "      <td>Saya Restaurant</td>\n",
              "      <td>8455 S 212th St</td>\n",
              "      <td>Kent, WA 98031-1950</td>\n",
              "      <td>Asian, Thai, Vegetarian Friendly</td>\n",
              "      <td>4.5 of 5 bubbles</td>\n",
              "      <td>27 reviews</td>\n",
              "      <td>The service was quick and friendly. It seemed ...</td>\n",
              "      <td>+1 253-395-7987</td>\n",
              "      <td>https://www.tripadvisor.com//Restaurant_Review...</td>\n",
              "      <td>https://openmenu.com/restaurant/57a0755e-ebff-...</td>\n",
              "      <td>$</td>\n",
              "    </tr>\n",
              "    <tr>\n",
              "      <th>1307</th>\n",
              "      <td>Dinosaur Bar-B-Que</td>\n",
              "      <td>224 Market St</td>\n",
              "      <td>Newark, NJ 07102-3708</td>\n",
              "      <td>American, Bar, Barbecue</td>\n",
              "      <td>4 of 5 bubbles</td>\n",
              "      <td>506 reviews</td>\n",
              "      <td>My party of 10 people came here on Saturday th...</td>\n",
              "      <td>+1 862-214-6100</td>\n",
              "      <td>https://www.tripadvisor.com//Restaurant_Review...</td>\n",
              "      <td>Check The Website for a Menu</td>\n",
              "      <td>$$ - $$$</td>\n",
              "    </tr>\n",
              "    <tr>\n",
              "      <th>1124</th>\n",
              "      <td>The Grange Bar &amp; Eatery</td>\n",
              "      <td>1635 Amsterdam Ave</td>\n",
              "      <td>New York City, NY 10031-6103</td>\n",
              "      <td>American, Bar, Vegetarian Friendly</td>\n",
              "      <td>4.5 of 5 bubbles</td>\n",
              "      <td>190 reviews</td>\n",
              "      <td>I went at the grange bar with friends in a col...</td>\n",
              "      <td>+1 212-491-1635</td>\n",
              "      <td>https://www.tripadvisor.com//Restaurant_Review...</td>\n",
              "      <td>https://thegrangebarnyc.com/new-york-hamilton-...</td>\n",
              "      <td>$$ - $$$</td>\n",
              "    </tr>\n",
              "    <tr>\n",
              "      <th>72</th>\n",
              "      <td>Red Apple Cafe</td>\n",
              "      <td>488 W Herndon Ave</td>\n",
              "      <td>Fresno, CA 93650-1329</td>\n",
              "      <td>American, Cafe, Vegetarian Friendly</td>\n",
              "      <td>4.5 of 5 bubbles</td>\n",
              "      <td>87 reviews</td>\n",
              "      <td>NaN</td>\n",
              "      <td>+1 559-261-1505</td>\n",
              "      <td>https://www.tripadvisor.com//Restaurant_Review...</td>\n",
              "      <td>Check The Website for a Menu</td>\n",
              "      <td>$$ - $$$</td>\n",
              "    </tr>\n",
              "    <tr>\n",
              "      <th>2212</th>\n",
              "      <td>Peyrassol Cafe</td>\n",
              "      <td>1083 Lake Washington Blvd N Ste 30</td>\n",
              "      <td>Renton, WA 98056-6459</td>\n",
              "      <td>European, French, Vegetarian Friendly</td>\n",
              "      <td>4.5 of 5 bubbles</td>\n",
              "      <td>183 reviews</td>\n",
              "      <td>My husband and I love this restaurant. Everyth...</td>\n",
              "      <td>+1 425-282-5472</td>\n",
              "      <td>https://www.tripadvisor.com//Restaurant_Review...</td>\n",
              "      <td>Check The Website for a Menu</td>\n",
              "      <td>$$ - $$$</td>\n",
              "    </tr>\n",
              "    <tr>\n",
              "      <th>1994</th>\n",
              "      <td>Ponzio's Diner-Bakery-Bar</td>\n",
              "      <td>7 Marlton Pike W</td>\n",
              "      <td>Cherry Hill, NJ 08002-3098</td>\n",
              "      <td>American, Diner, Vegetarian Friendly</td>\n",
              "      <td>4 of 5 bubbles</td>\n",
              "      <td>381 reviews</td>\n",
              "      <td>I enjoyed my meal at Ponzio’s. It has a wide v...</td>\n",
              "      <td>+1 856-428-4808</td>\n",
              "      <td>https://www.tripadvisor.com//Restaurant_Review...</td>\n",
              "      <td>Check The Website for a Menu</td>\n",
              "      <td>$$ - $$$</td>\n",
              "    </tr>\n",
              "  </tbody>\n",
              "</table>\n",
              "</div>\n",
              "      <button class=\"colab-df-convert\" onclick=\"convertToInteractive('df-4c7973df-7200-4a14-9eeb-5312540801ad')\"\n",
              "              title=\"Convert this dataframe to an interactive table.\"\n",
              "              style=\"display:none;\">\n",
              "        \n",
              "  <svg xmlns=\"http://www.w3.org/2000/svg\" height=\"24px\"viewBox=\"0 0 24 24\"\n",
              "       width=\"24px\">\n",
              "    <path d=\"M0 0h24v24H0V0z\" fill=\"none\"/>\n",
              "    <path d=\"M18.56 5.44l.94 2.06.94-2.06 2.06-.94-2.06-.94-.94-2.06-.94 2.06-2.06.94zm-11 1L8.5 8.5l.94-2.06 2.06-.94-2.06-.94L8.5 2.5l-.94 2.06-2.06.94zm10 10l.94 2.06.94-2.06 2.06-.94-2.06-.94-.94-2.06-.94 2.06-2.06.94z\"/><path d=\"M17.41 7.96l-1.37-1.37c-.4-.4-.92-.59-1.43-.59-.52 0-1.04.2-1.43.59L10.3 9.45l-7.72 7.72c-.78.78-.78 2.05 0 2.83L4 21.41c.39.39.9.59 1.41.59.51 0 1.02-.2 1.41-.59l7.78-7.78 2.81-2.81c.8-.78.8-2.07 0-2.86zM5.41 20L4 18.59l7.72-7.72 1.47 1.35L5.41 20z\"/>\n",
              "  </svg>\n",
              "      </button>\n",
              "      \n",
              "  <style>\n",
              "    .colab-df-container {\n",
              "      display:flex;\n",
              "      flex-wrap:wrap;\n",
              "      gap: 12px;\n",
              "    }\n",
              "\n",
              "    .colab-df-convert {\n",
              "      background-color: #E8F0FE;\n",
              "      border: none;\n",
              "      border-radius: 50%;\n",
              "      cursor: pointer;\n",
              "      display: none;\n",
              "      fill: #1967D2;\n",
              "      height: 32px;\n",
              "      padding: 0 0 0 0;\n",
              "      width: 32px;\n",
              "    }\n",
              "\n",
              "    .colab-df-convert:hover {\n",
              "      background-color: #E2EBFA;\n",
              "      box-shadow: 0px 1px 2px rgba(60, 64, 67, 0.3), 0px 1px 3px 1px rgba(60, 64, 67, 0.15);\n",
              "      fill: #174EA6;\n",
              "    }\n",
              "\n",
              "    [theme=dark] .colab-df-convert {\n",
              "      background-color: #3B4455;\n",
              "      fill: #D2E3FC;\n",
              "    }\n",
              "\n",
              "    [theme=dark] .colab-df-convert:hover {\n",
              "      background-color: #434B5C;\n",
              "      box-shadow: 0px 1px 3px 1px rgba(0, 0, 0, 0.15);\n",
              "      filter: drop-shadow(0px 1px 2px rgba(0, 0, 0, 0.3));\n",
              "      fill: #FFFFFF;\n",
              "    }\n",
              "  </style>\n",
              "\n",
              "      <script>\n",
              "        const buttonEl =\n",
              "          document.querySelector('#df-4c7973df-7200-4a14-9eeb-5312540801ad button.colab-df-convert');\n",
              "        buttonEl.style.display =\n",
              "          google.colab.kernel.accessAllowed ? 'block' : 'none';\n",
              "\n",
              "        async function convertToInteractive(key) {\n",
              "          const element = document.querySelector('#df-4c7973df-7200-4a14-9eeb-5312540801ad');\n",
              "          const dataTable =\n",
              "            await google.colab.kernel.invokeFunction('convertToInteractive',\n",
              "                                                     [key], {});\n",
              "          if (!dataTable) return;\n",
              "\n",
              "          const docLinkHtml = 'Like what you see? Visit the ' +\n",
              "            '<a target=\"_blank\" href=https://colab.research.google.com/notebooks/data_table.ipynb>data table notebook</a>'\n",
              "            + ' to learn more about interactive tables.';\n",
              "          element.innerHTML = '';\n",
              "          dataTable['output_type'] = 'display_data';\n",
              "          await google.colab.output.renderOutput(dataTable, element);\n",
              "          const docLink = document.createElement('div');\n",
              "          docLink.innerHTML = docLinkHtml;\n",
              "          element.appendChild(docLink);\n",
              "        }\n",
              "      </script>\n",
              "    </div>\n",
              "  </div>\n",
              "  "
            ]
          },
          "metadata": {},
          "execution_count": 3
        }
      ]
    },
    {
      "cell_type": "code",
      "source": [
        "df.info()"
      ],
      "metadata": {
        "colab": {
          "base_uri": "https://localhost:8080/"
        },
        "id": "aYXdArXNDupN",
        "outputId": "edc9b5f0-6cad-404a-ccce-e56450e118dc"
      },
      "execution_count": null,
      "outputs": [
        {
          "output_type": "stream",
          "name": "stdout",
          "text": [
            "<class 'pandas.core.frame.DataFrame'>\n",
            "RangeIndex: 3062 entries, 0 to 3061\n",
            "Data columns (total 11 columns):\n",
            " #   Column            Non-Null Count  Dtype \n",
            "---  ------            --------------  ----- \n",
            " 0   Name              3062 non-null   object\n",
            " 1   Street Address    3062 non-null   object\n",
            " 2   Location          3062 non-null   object\n",
            " 3   Type              3049 non-null   object\n",
            " 4   Reviews           3062 non-null   object\n",
            " 5   No of Reviews     3062 non-null   object\n",
            " 6   Comments          2447 non-null   object\n",
            " 7   Contact Number    3062 non-null   object\n",
            " 8   Trip_advisor Url  3062 non-null   object\n",
            " 9   Menu              3062 non-null   object\n",
            " 10  Price_Range       3062 non-null   object\n",
            "dtypes: object(11)\n",
            "memory usage: 263.3+ KB\n"
          ]
        }
      ]
    },
    {
      "cell_type": "code",
      "source": [
        "df['Comments'].sample(10)"
      ],
      "metadata": {
        "colab": {
          "base_uri": "https://localhost:8080/"
        },
        "id": "ERCYxYw424iJ",
        "outputId": "f5b7c62c-9de7-4a6f-c5d4-5e57292521b2"
      },
      "execution_count": null,
      "outputs": [
        {
          "output_type": "execute_result",
          "data": {
            "text/plain": [
              "3025                                                  NaN\n",
              "1277    As a 58 year old Greek, I can say this restaur...\n",
              "1002    Good German food and better German beer, large...\n",
              "2576    First off, shout out to the best bar tender I'...\n",
              "1999    It is a very tiny place and I guess in season ...\n",
              "368                                                   NaN\n",
              "2009    This was our first time dining in an authentic...\n",
              "1973    Reservations for V Day were unavailable so we ...\n",
              "1398    The restaurant has changed.  I think it’s a po...\n",
              "31      I can't tell you enough of how amazing the foo...\n",
              "Name: Comments, dtype: object"
            ]
          },
          "metadata": {},
          "execution_count": 5
        }
      ]
    },
    {
      "cell_type": "code",
      "source": [
        "df.isna().sum()"
      ],
      "metadata": {
        "colab": {
          "base_uri": "https://localhost:8080/"
        },
        "id": "-7TpQdwYAihM",
        "outputId": "d7d81cce-61bb-4692-f994-010bf36615da"
      },
      "execution_count": null,
      "outputs": [
        {
          "output_type": "execute_result",
          "data": {
            "text/plain": [
              "Name                  0\n",
              "Street Address        0\n",
              "Location              0\n",
              "Type                 13\n",
              "Reviews               0\n",
              "No of Reviews         0\n",
              "Comments            615\n",
              "Contact Number        0\n",
              "Trip_advisor Url      0\n",
              "Menu                  0\n",
              "Price_Range           0\n",
              "dtype: int64"
            ]
          },
          "metadata": {},
          "execution_count": 6
        }
      ]
    },
    {
      "cell_type": "code",
      "source": [
        "df2 = df.copy()"
      ],
      "metadata": {
        "id": "x5_jJXiq0qF7"
      },
      "execution_count": null,
      "outputs": []
    },
    {
      "cell_type": "code",
      "source": [
        "#Import TfIdfVectorizer from scikit-learn\n",
        "from sklearn.feature_extraction.text import TfidfVectorizer\n",
        "\n",
        "#Define a TF-IDF Vectorizer Object. Remove all english stop words such as 'the', 'a'\n",
        "tfidf = TfidfVectorizer(stop_words='english',ngram_range=(1,3),min_df=3,analyzer='word')\n",
        "\n",
        "#Replace NaN with an empty string\n",
        "df2['Comments'] = df2['Comments'].fillna('')\n",
        "\n",
        "#Construct the required TF-IDF matrix by fitting and transforming the data\n",
        "tfidf_matrix = tfidf.fit_transform(df2['Comments'])\n",
        "\n",
        "#Output the shape of tfidf_matrix\n",
        "tfidf_matrix.shape"
      ],
      "metadata": {
        "id": "jsDy9N_OYxQ6",
        "colab": {
          "base_uri": "https://localhost:8080/"
        },
        "outputId": "10c770b1-f7f2-419b-f626-b4edb4648290"
      },
      "execution_count": null,
      "outputs": [
        {
          "output_type": "execute_result",
          "data": {
            "text/plain": [
              "(3062, 4435)"
            ]
          },
          "metadata": {},
          "execution_count": 8
        }
      ]
    },
    {
      "cell_type": "code",
      "source": [
        "from sklearn.metrics.pairwise import linear_kernel\n",
        "\n",
        "# Compute the cosine similarity matrix\n",
        "cosine_sim = linear_kernel(tfidf_matrix, tfidf_matrix)"
      ],
      "metadata": {
        "id": "W2BhfoHIY0B5"
      },
      "execution_count": null,
      "outputs": []
    },
    {
      "cell_type": "code",
      "source": [
        "print(cosine_sim.shape)\n",
        "print(cosine_sim[1])"
      ],
      "metadata": {
        "id": "_BzXScyk1Dyx",
        "colab": {
          "base_uri": "https://localhost:8080/"
        },
        "outputId": "bae367fb-45a2-46d3-bbc4-82c27ac1fcef"
      },
      "execution_count": null,
      "outputs": [
        {
          "output_type": "stream",
          "name": "stdout",
          "text": [
            "(3062, 3062)\n",
            "[0.         1.         0.0370547  ... 0.02827601 0.         0.03051351]\n"
          ]
        }
      ]
    },
    {
      "cell_type": "code",
      "source": [
        "#Construct a reverse map of indices and movie titles\n",
        "indices = pd.Series(df2.index, index=df2['Name']).drop_duplicates()\n"
      ],
      "metadata": {
        "id": "kcOJTlWt1FtY"
      },
      "execution_count": null,
      "outputs": []
    },
    {
      "cell_type": "code",
      "source": [
        "def get_recommendations(title, cosine_sim=cosine_sim):\n",
        "    # Get the index of the movie that matches the title\n",
        "    idx = indices[title]\n",
        "\n",
        "    # Get the pairwsie similarity scores of all movies with that movie\n",
        "    sim_scores = list(enumerate(cosine_sim[idx]))\n",
        "\n",
        "    # Sort the movies based on the similarity scores\n",
        "    sim_scores = sorted(sim_scores, key=lambda x: x[1], reverse=True)\n",
        "\n",
        "    # Get the scores of the 10 most similar movies\n",
        "    sim_scores = sim_scores[1:11]\n",
        "\n",
        "    # Get the movie indices\n",
        "    Trip_indices = [i[0] for i in sim_scores]\n",
        "\n",
        "    # Return the top 10 most similar movies\n",
        "    return df2['Name'].iloc[Trip_indices]"
      ],
      "metadata": {
        "id": "AzJz6I4B1Iah"
      },
      "execution_count": null,
      "outputs": []
    },
    {
      "cell_type": "code",
      "source": [
        "# Getting the recommendation\n",
        "get_recommendations('The Left Bank')"
      ],
      "metadata": {
        "id": "CrQ5syglRyw5",
        "colab": {
          "base_uri": "https://localhost:8080/"
        },
        "outputId": "3ec97900-c679-4ca9-ab1b-2b96e1b2157a"
      },
      "execution_count": null,
      "outputs": [
        {
          "output_type": "execute_result",
          "data": {
            "text/plain": [
              "1992       Mikado Japanese Cuisine\n",
              "785           Julio's Mexican Food\n",
              "1538                   Kenko Sushi\n",
              "1596           Cannelle Patisserie\n",
              "674           Lange's Delicatessen\n",
              "627     Dusal's Italian Restaurant\n",
              "2458      The Original Blanco Cafe\n",
              "269                S & D Oyster Co\n",
              "831          Vila Verde Restaurant\n",
              "177                Los Tacos No. 1\n",
              "Name: Name, dtype: object"
            ]
          },
          "metadata": {},
          "execution_count": 17
        }
      ]
    },
    {
      "cell_type": "code",
      "source": [
        "df2['Name']"
      ],
      "metadata": {
        "id": "0r8byReTHafx"
      },
      "execution_count": null,
      "outputs": []
    }
  ]
}