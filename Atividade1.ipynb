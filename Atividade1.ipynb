{
 "cells": [
  {
   "cell_type": "markdown",
   "metadata": {
    "id": "2bNFCpyayl7W"
   },
   "source": [
    "Atividade 1 Tópicos II\n",
    "aluno: Vinícius Barbosa da Silva"
   ]
  },
  {
   "cell_type": "markdown",
   "metadata": {
    "id": "g-pmU4Pk6LTo"
   },
   "source": [
    "Questão 1"
   ]
  },
  {
   "cell_type": "code",
   "execution_count": 29,
   "metadata": {
    "colab": {
     "base_uri": "https://localhost:8080/"
    },
    "id": "d5M-btOfykh_",
    "outputId": "396983d7-da17-4389-f37a-4765b4a35714"
   },
   "outputs": [
    {
     "name": "stdout",
     "output_type": "stream",
     "text": [
      "[200, 300, 400, 500, 40]\n"
     ]
    }
   ],
   "source": [
    "#Sem List Comprehension\n",
    "precos = [100,150,200,250,20]\n",
    "\n",
    "novo_preco = []\n",
    "for preco in precos:\n",
    "  novo_preco.append(preco*2)\n",
    "print(novo_preco)"
   ]
  },
  {
   "cell_type": "code",
   "execution_count": 30,
   "metadata": {
    "colab": {
     "base_uri": "https://localhost:8080/"
    },
    "id": "8gKv__K0zC0Q",
    "outputId": "b12fe429-6831-43ad-fff6-7d2d70a0251c"
   },
   "outputs": [
    {
     "name": "stdout",
     "output_type": "stream",
     "text": [
      "[200, 300, 400, 500, 40]\n"
     ]
    }
   ],
   "source": [
    "#Com List Comprehension\n",
    "novo_preco2 = [preco*2 for preco in precos]\n",
    "print(novo_preco2)"
   ]
  },
  {
   "cell_type": "markdown",
   "metadata": {
    "id": "k-oBF45T6PM1"
   },
   "source": [
    "Questão 2"
   ]
  },
  {
   "cell_type": "code",
   "execution_count": null,
   "metadata": {
    "id": "AHsr6gclzcLu"
   },
   "outputs": [],
   "source": [
    "L1 = [{'nome':'Vinicius','idade':21},{'nome':'Vivian','idade':19}]\n",
    "L2 = [{'nome': 'Maria','salario':1500},{'nome':'Joao','salario':2000}]\n",
    "def combinaListas(L1,L2, BUSCA):\n",
    "  L3 = list()\n",
    "  L3 = L1.copy()\n",
    "for indice1, indice2 in zip(L1,L2):\n",
    "  indice1[BUSCA] = indice2[BUSCA]\n",
    "print(L3)\n",
    "combinaListas(L1,L2,'salario')"
   ]
  },
  {
   "cell_type": "markdown",
   "metadata": {
    "id": "I7aKQoaR7LL-"
   },
   "source": [
    "Questão 3\n",
    "\n",
    "a) Sim, L1 e L2 possuem os mesmos elementos.\n",
    "b) Não, L1 e L2 estão alocados em contextos diferentes de memória."
   ]
  },
  {
   "cell_type": "markdown",
   "metadata": {
    "id": "a7ruB86U7cG3"
   },
   "source": [
    "Questão *4*"
   ]
  },
  {
   "cell_type": "code",
   "execution_count": 13,
   "metadata": {
    "colab": {
     "base_uri": "https://localhost:8080/"
    },
    "id": "hLNImywc1LSY",
    "outputId": "03fe65da-2031-476a-f123-5605cdcdffd1"
   },
   "outputs": [
    {
     "name": "stdout",
     "output_type": "stream",
     "text": [
      "Valor com função parametros indentificados: \n",
      "2166.6666666666665\n"
     ]
    }
   ],
   "source": [
    "def calcularMediaSalarial(salario1=1500, salario2=2000, salario3=3000, funcionarios=3):\n",
    "  return (salario1+salario2+salario3)/funcionarios\n",
    "print(\"Valor com função parametros indentificados: \")\n",
    "print(calcularMediaSalarial())"
   ]
  },
  {
   "cell_type": "markdown",
   "metadata": {
    "id": "WAFhUw3K7OCO"
   },
   "source": [
    "Questão 5"
   ]
  },
  {
   "cell_type": "code",
   "execution_count": 35,
   "metadata": {
    "id": "icmO_ICw7P13"
   },
   "outputs": [],
   "source": [
    "Meses = ['JAN', 'FEV', 'MAR', 'ABRIL']\n",
    "PRECIPITACAO = [244,373,428,77]\n",
    "def combinaListas(Meses, PRECIPITACAO):\n",
    "  AUX = zip(Meses, PRECIPITACAO)\n",
    "  list_Meses_precipitacao = list(AUX)\n",
    "  print(list_Meses_precipitacao)\n",
    "  combinaListas(Meses,PRECIPITACAO)"
   ]
  },
  {
   "cell_type": "markdown",
   "metadata": {
    "id": "YJ68z-iM7slv"
   },
   "source": [
    "Questão 6"
   ]
  },
  {
   "cell_type": "code",
   "execution_count": 41,
   "metadata": {
    "colab": {
     "base_uri": "https://localhost:8080/"
    },
    "id": "ms-UhtvZ7vF9",
    "outputId": "d8be4e96-31a9-43a8-b5cc-7debd29691b3"
   },
   "outputs": [
    {
     "name": "stdout",
     "output_type": "stream",
     "text": [
      "None\n"
     ]
    }
   ],
   "source": [
    "COLECAO = [[1,2,3],[4,5,6],[7,8,9]]\n",
    "def matrizTrsposta(LISTA):\n",
    "  *AUX, = zip(*LISTA)\n",
    "print(matrizTrsposta(COLECAO))"
   ]
  },
  {
   "cell_type": "code",
   "execution_count": 47,
   "metadata": {
    "colab": {
     "base_uri": "https://localhost:8080/"
    },
    "id": "F6QZ1F5h9O_O",
    "outputId": "8eb11141-6bd3-4b6c-da87-160fd912425a"
   },
   "outputs": [
    {
     "name": "stdout",
     "output_type": "stream",
     "text": [
      "[1, 2]\n",
      "[3, 4]\n",
      "[5, 6]\n",
      "---------------\n",
      "[1, 3, 5]\n",
      "[2, 4, 6]\n"
     ]
    }
   ],
   "source": [
    "M =[[1,2],[3,4],[5,6]]\n",
    "for j in M:\n",
    "    print(j)\n",
    "print(\"---------------\")\n",
    "M_t = list(map(list, zip(*M))) \n",
    "for j in M_t:\n",
    "    print(j)"
   ]
  }
 ],
 "metadata": {
  "colab": {
   "name": "Atividade1.ipynb",
   "provenance": []
  },
  "kernelspec": {
   "display_name": "Python 3 (ipykernel)",
   "language": "python",
   "name": "python3"
  },
  "language_info": {
   "codemirror_mode": {
    "name": "ipython",
    "version": 3
   },
   "file_extension": ".py",
   "mimetype": "text/x-python",
   "name": "python",
   "nbconvert_exporter": "python",
   "pygments_lexer": "ipython3",
   "version": "3.9.16"
  }
 },
 "nbformat": 4,
 "nbformat_minor": 4
}
