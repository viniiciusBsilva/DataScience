{
  "nbformat": 4,
  "nbformat_minor": 0,
  "metadata": {
    "colab": {
      "provenance": []
    },
    "kernelspec": {
      "name": "python3",
      "display_name": "Python 3"
    },
    "language_info": {
      "name": "python"
    }
  },
  "cells": [
    {
      "cell_type": "markdown",
      "source": [
        "# Classificação"
      ],
      "metadata": {
        "id": "WPdmoc753cVZ"
      }
    },
    {
      "cell_type": "markdown",
      "source": [
        "Disciplina: Engenharia da Informação\n",
        "\n",
        "Nome: Vinícius Barbosa da Silva e\n",
        "\n",
        "Leidjane de Jesus Araújo Campos"
      ],
      "metadata": {
        "id": "Ko8pXGAb8Hph"
      }
    },
    {
      "cell_type": "markdown",
      "source": [
        "Foi utilizado o Dataset FIFA World Cup 2022 Tweets disponível em: https://www.kaggle.com/datasets/tirendazacademy/fifa-world-cup-2022-tweets"
      ],
      "metadata": {
        "id": "JqxRf9ee3gsq"
      }
    },
    {
      "cell_type": "markdown",
      "source": [
        "Quatro algoritmos de classificação populares para comparar o desempenho de cada um deles na tarefa de classificação de Tweets por sentimento:\n",
        "\n",
        "-Naive Bayes\n",
        "\n",
        "-Regressão logística\n",
        "\n",
        "-Árvore de decisão\n",
        "\n",
        "-Random Forest"
      ],
      "metadata": {
        "id": "e8qw_Fsn3CTy"
      }
    },
    {
      "cell_type": "code",
      "execution_count": null,
      "metadata": {
        "id": "FTZQ4N4U_Ayx",
        "colab": {
          "base_uri": "https://localhost:8080/"
        },
        "outputId": "cf2308df-dffa-4e98-e101-391e5dc75d4f"
      },
      "outputs": [
        {
          "output_type": "stream",
          "name": "stderr",
          "text": [
            "[nltk_data] Downloading package stopwords to /root/nltk_data...\n",
            "[nltk_data]   Package stopwords is already up-to-date!\n",
            "[nltk_data] Downloading package punkt to /root/nltk_data...\n",
            "[nltk_data]   Package punkt is already up-to-date!\n",
            "[nltk_data] Downloading package wordnet to /root/nltk_data...\n",
            "[nltk_data]   Package wordnet is already up-to-date!\n"
          ]
        },
        {
          "output_type": "execute_result",
          "data": {
            "text/plain": [
              "True"
            ]
          },
          "metadata": {},
          "execution_count": 1
        }
      ],
      "source": [
        "import pandas as pd\n",
        "from sklearn.metrics import accuracy_score, classification_report\n",
        "from sklearn.model_selection import train_test_split\n",
        "from sklearn.feature_extraction.text import CountVectorizer\n",
        "import re\n",
        "import nltk\n",
        "from nltk.corpus import stopwords\n",
        "from nltk.stem import WordNetLemmatizer\n",
        "\n",
        "nltk.download('stopwords')\n",
        "nltk.download('punkt')\n",
        "nltk.download('wordnet')"
      ]
    },
    {
      "cell_type": "markdown",
      "source": [
        "#Preparação dos dados"
      ],
      "metadata": {
        "id": "jQZ9sOc50ZXg"
      }
    },
    {
      "cell_type": "code",
      "source": [
        "# Carregando o conjunto de dados de filmes\n",
        "df = pd.read_csv('fifaset.csv')"
      ],
      "metadata": {
        "id": "yfG22sdH0xuh"
      },
      "execution_count": null,
      "outputs": []
    },
    {
      "cell_type": "code",
      "source": [
        "df.head()"
      ],
      "metadata": {
        "colab": {
          "base_uri": "https://localhost:8080/",
          "height": 206
        },
        "id": "YLyW7vgf_vQU",
        "outputId": "68b0a7fe-389a-499a-856b-8e80f6757a84"
      },
      "execution_count": null,
      "outputs": [
        {
          "output_type": "execute_result",
          "data": {
            "text/plain": [
              "   Unnamed: 0               Date Created  Number of Likes  \\\n",
              "0           0  2022-11-20 23:59:21+00:00                4   \n",
              "1           1  2022-11-20 23:59:01+00:00                3   \n",
              "2           2  2022-11-20 23:58:41+00:00                1   \n",
              "3           3  2022-11-20 23:58:33+00:00                1   \n",
              "4           4  2022-11-20 23:58:28+00:00                0   \n",
              "\n",
              "       Source of Tweet                                              Tweet  \\\n",
              "0      Twitter Web App  What are we drinking today @TucanTribe \\n@MadB...   \n",
              "1   Twitter for iPhone  Amazing @CanadaSoccerEN  #WorldCup2022 launch ...   \n",
              "2   Twitter for iPhone  Worth reading while watching #WorldCup2022 htt...   \n",
              "3      Twitter Web App  Golden Maknae shinning bright\\n\\nhttps://t.co/...   \n",
              "4  Twitter for Android  If the BBC cares so much about human rights, h...   \n",
              "\n",
              "  Sentiment  \n",
              "0   neutral  \n",
              "1  positive  \n",
              "2  positive  \n",
              "3  positive  \n",
              "4  negative  "
            ],
            "text/html": [
              "\n",
              "  <div id=\"df-9eb5f3d3-7120-443d-8696-58d2e87bef58\">\n",
              "    <div class=\"colab-df-container\">\n",
              "      <div>\n",
              "<style scoped>\n",
              "    .dataframe tbody tr th:only-of-type {\n",
              "        vertical-align: middle;\n",
              "    }\n",
              "\n",
              "    .dataframe tbody tr th {\n",
              "        vertical-align: top;\n",
              "    }\n",
              "\n",
              "    .dataframe thead th {\n",
              "        text-align: right;\n",
              "    }\n",
              "</style>\n",
              "<table border=\"1\" class=\"dataframe\">\n",
              "  <thead>\n",
              "    <tr style=\"text-align: right;\">\n",
              "      <th></th>\n",
              "      <th>Unnamed: 0</th>\n",
              "      <th>Date Created</th>\n",
              "      <th>Number of Likes</th>\n",
              "      <th>Source of Tweet</th>\n",
              "      <th>Tweet</th>\n",
              "      <th>Sentiment</th>\n",
              "    </tr>\n",
              "  </thead>\n",
              "  <tbody>\n",
              "    <tr>\n",
              "      <th>0</th>\n",
              "      <td>0</td>\n",
              "      <td>2022-11-20 23:59:21+00:00</td>\n",
              "      <td>4</td>\n",
              "      <td>Twitter Web App</td>\n",
              "      <td>What are we drinking today @TucanTribe \\n@MadB...</td>\n",
              "      <td>neutral</td>\n",
              "    </tr>\n",
              "    <tr>\n",
              "      <th>1</th>\n",
              "      <td>1</td>\n",
              "      <td>2022-11-20 23:59:01+00:00</td>\n",
              "      <td>3</td>\n",
              "      <td>Twitter for iPhone</td>\n",
              "      <td>Amazing @CanadaSoccerEN  #WorldCup2022 launch ...</td>\n",
              "      <td>positive</td>\n",
              "    </tr>\n",
              "    <tr>\n",
              "      <th>2</th>\n",
              "      <td>2</td>\n",
              "      <td>2022-11-20 23:58:41+00:00</td>\n",
              "      <td>1</td>\n",
              "      <td>Twitter for iPhone</td>\n",
              "      <td>Worth reading while watching #WorldCup2022 htt...</td>\n",
              "      <td>positive</td>\n",
              "    </tr>\n",
              "    <tr>\n",
              "      <th>3</th>\n",
              "      <td>3</td>\n",
              "      <td>2022-11-20 23:58:33+00:00</td>\n",
              "      <td>1</td>\n",
              "      <td>Twitter Web App</td>\n",
              "      <td>Golden Maknae shinning bright\\n\\nhttps://t.co/...</td>\n",
              "      <td>positive</td>\n",
              "    </tr>\n",
              "    <tr>\n",
              "      <th>4</th>\n",
              "      <td>4</td>\n",
              "      <td>2022-11-20 23:58:28+00:00</td>\n",
              "      <td>0</td>\n",
              "      <td>Twitter for Android</td>\n",
              "      <td>If the BBC cares so much about human rights, h...</td>\n",
              "      <td>negative</td>\n",
              "    </tr>\n",
              "  </tbody>\n",
              "</table>\n",
              "</div>\n",
              "      <button class=\"colab-df-convert\" onclick=\"convertToInteractive('df-9eb5f3d3-7120-443d-8696-58d2e87bef58')\"\n",
              "              title=\"Convert this dataframe to an interactive table.\"\n",
              "              style=\"display:none;\">\n",
              "        \n",
              "  <svg xmlns=\"http://www.w3.org/2000/svg\" height=\"24px\"viewBox=\"0 0 24 24\"\n",
              "       width=\"24px\">\n",
              "    <path d=\"M0 0h24v24H0V0z\" fill=\"none\"/>\n",
              "    <path d=\"M18.56 5.44l.94 2.06.94-2.06 2.06-.94-2.06-.94-.94-2.06-.94 2.06-2.06.94zm-11 1L8.5 8.5l.94-2.06 2.06-.94-2.06-.94L8.5 2.5l-.94 2.06-2.06.94zm10 10l.94 2.06.94-2.06 2.06-.94-2.06-.94-.94-2.06-.94 2.06-2.06.94z\"/><path d=\"M17.41 7.96l-1.37-1.37c-.4-.4-.92-.59-1.43-.59-.52 0-1.04.2-1.43.59L10.3 9.45l-7.72 7.72c-.78.78-.78 2.05 0 2.83L4 21.41c.39.39.9.59 1.41.59.51 0 1.02-.2 1.41-.59l7.78-7.78 2.81-2.81c.8-.78.8-2.07 0-2.86zM5.41 20L4 18.59l7.72-7.72 1.47 1.35L5.41 20z\"/>\n",
              "  </svg>\n",
              "      </button>\n",
              "      \n",
              "  <style>\n",
              "    .colab-df-container {\n",
              "      display:flex;\n",
              "      flex-wrap:wrap;\n",
              "      gap: 12px;\n",
              "    }\n",
              "\n",
              "    .colab-df-convert {\n",
              "      background-color: #E8F0FE;\n",
              "      border: none;\n",
              "      border-radius: 50%;\n",
              "      cursor: pointer;\n",
              "      display: none;\n",
              "      fill: #1967D2;\n",
              "      height: 32px;\n",
              "      padding: 0 0 0 0;\n",
              "      width: 32px;\n",
              "    }\n",
              "\n",
              "    .colab-df-convert:hover {\n",
              "      background-color: #E2EBFA;\n",
              "      box-shadow: 0px 1px 2px rgba(60, 64, 67, 0.3), 0px 1px 3px 1px rgba(60, 64, 67, 0.15);\n",
              "      fill: #174EA6;\n",
              "    }\n",
              "\n",
              "    [theme=dark] .colab-df-convert {\n",
              "      background-color: #3B4455;\n",
              "      fill: #D2E3FC;\n",
              "    }\n",
              "\n",
              "    [theme=dark] .colab-df-convert:hover {\n",
              "      background-color: #434B5C;\n",
              "      box-shadow: 0px 1px 3px 1px rgba(0, 0, 0, 0.15);\n",
              "      filter: drop-shadow(0px 1px 2px rgba(0, 0, 0, 0.3));\n",
              "      fill: #FFFFFF;\n",
              "    }\n",
              "  </style>\n",
              "\n",
              "      <script>\n",
              "        const buttonEl =\n",
              "          document.querySelector('#df-9eb5f3d3-7120-443d-8696-58d2e87bef58 button.colab-df-convert');\n",
              "        buttonEl.style.display =\n",
              "          google.colab.kernel.accessAllowed ? 'block' : 'none';\n",
              "\n",
              "        async function convertToInteractive(key) {\n",
              "          const element = document.querySelector('#df-9eb5f3d3-7120-443d-8696-58d2e87bef58');\n",
              "          const dataTable =\n",
              "            await google.colab.kernel.invokeFunction('convertToInteractive',\n",
              "                                                     [key], {});\n",
              "          if (!dataTable) return;\n",
              "\n",
              "          const docLinkHtml = 'Like what you see? Visit the ' +\n",
              "            '<a target=\"_blank\" href=https://colab.research.google.com/notebooks/data_table.ipynb>data table notebook</a>'\n",
              "            + ' to learn more about interactive tables.';\n",
              "          element.innerHTML = '';\n",
              "          dataTable['output_type'] = 'display_data';\n",
              "          await google.colab.output.renderOutput(dataTable, element);\n",
              "          const docLink = document.createElement('div');\n",
              "          docLink.innerHTML = docLinkHtml;\n",
              "          element.appendChild(docLink);\n",
              "        }\n",
              "      </script>\n",
              "    </div>\n",
              "  </div>\n",
              "  "
            ]
          },
          "metadata": {},
          "execution_count": 3
        }
      ]
    },
    {
      "cell_type": "code",
      "source": [
        "df.Sentiment.value_counts()"
      ],
      "metadata": {
        "colab": {
          "base_uri": "https://localhost:8080/"
        },
        "id": "I4PjZcEzB5N2",
        "outputId": "893c5709-6571-4a78-fd02-b7bea4fe65fe"
      },
      "execution_count": null,
      "outputs": [
        {
          "output_type": "execute_result",
          "data": {
            "text/plain": [
              "positive    8489\n",
              "neutral     8251\n",
              "negative    5784\n",
              "Name: Sentiment, dtype: int64"
            ]
          },
          "metadata": {},
          "execution_count": 4
        }
      ]
    },
    {
      "cell_type": "code",
      "source": [
        "df['Sentiment'] = df['Sentiment'].map({'positive': 1, 'negative': 0, 'neutral':2})"
      ],
      "metadata": {
        "id": "6VMxShNS6bfR"
      },
      "execution_count": null,
      "outputs": []
    },
    {
      "cell_type": "code",
      "source": [
        "df.head()"
      ],
      "metadata": {
        "colab": {
          "base_uri": "https://localhost:8080/",
          "height": 206
        },
        "id": "KvhhOVfd6-KW",
        "outputId": "763a4cba-9ea5-4c64-d32a-ae85a1d0d8c1"
      },
      "execution_count": null,
      "outputs": [
        {
          "output_type": "execute_result",
          "data": {
            "text/plain": [
              "   Unnamed: 0               Date Created  Number of Likes  \\\n",
              "0           0  2022-11-20 23:59:21+00:00                4   \n",
              "1           1  2022-11-20 23:59:01+00:00                3   \n",
              "2           2  2022-11-20 23:58:41+00:00                1   \n",
              "3           3  2022-11-20 23:58:33+00:00                1   \n",
              "4           4  2022-11-20 23:58:28+00:00                0   \n",
              "\n",
              "       Source of Tweet                                              Tweet  \\\n",
              "0      Twitter Web App  What are we drinking today @TucanTribe \\n@MadB...   \n",
              "1   Twitter for iPhone  Amazing @CanadaSoccerEN  #WorldCup2022 launch ...   \n",
              "2   Twitter for iPhone  Worth reading while watching #WorldCup2022 htt...   \n",
              "3      Twitter Web App  Golden Maknae shinning bright\\n\\nhttps://t.co/...   \n",
              "4  Twitter for Android  If the BBC cares so much about human rights, h...   \n",
              "\n",
              "   Sentiment  \n",
              "0          2  \n",
              "1          1  \n",
              "2          1  \n",
              "3          1  \n",
              "4          0  "
            ],
            "text/html": [
              "\n",
              "  <div id=\"df-7e4e7f05-f829-4683-9d42-636f9e715e82\">\n",
              "    <div class=\"colab-df-container\">\n",
              "      <div>\n",
              "<style scoped>\n",
              "    .dataframe tbody tr th:only-of-type {\n",
              "        vertical-align: middle;\n",
              "    }\n",
              "\n",
              "    .dataframe tbody tr th {\n",
              "        vertical-align: top;\n",
              "    }\n",
              "\n",
              "    .dataframe thead th {\n",
              "        text-align: right;\n",
              "    }\n",
              "</style>\n",
              "<table border=\"1\" class=\"dataframe\">\n",
              "  <thead>\n",
              "    <tr style=\"text-align: right;\">\n",
              "      <th></th>\n",
              "      <th>Unnamed: 0</th>\n",
              "      <th>Date Created</th>\n",
              "      <th>Number of Likes</th>\n",
              "      <th>Source of Tweet</th>\n",
              "      <th>Tweet</th>\n",
              "      <th>Sentiment</th>\n",
              "    </tr>\n",
              "  </thead>\n",
              "  <tbody>\n",
              "    <tr>\n",
              "      <th>0</th>\n",
              "      <td>0</td>\n",
              "      <td>2022-11-20 23:59:21+00:00</td>\n",
              "      <td>4</td>\n",
              "      <td>Twitter Web App</td>\n",
              "      <td>What are we drinking today @TucanTribe \\n@MadB...</td>\n",
              "      <td>2</td>\n",
              "    </tr>\n",
              "    <tr>\n",
              "      <th>1</th>\n",
              "      <td>1</td>\n",
              "      <td>2022-11-20 23:59:01+00:00</td>\n",
              "      <td>3</td>\n",
              "      <td>Twitter for iPhone</td>\n",
              "      <td>Amazing @CanadaSoccerEN  #WorldCup2022 launch ...</td>\n",
              "      <td>1</td>\n",
              "    </tr>\n",
              "    <tr>\n",
              "      <th>2</th>\n",
              "      <td>2</td>\n",
              "      <td>2022-11-20 23:58:41+00:00</td>\n",
              "      <td>1</td>\n",
              "      <td>Twitter for iPhone</td>\n",
              "      <td>Worth reading while watching #WorldCup2022 htt...</td>\n",
              "      <td>1</td>\n",
              "    </tr>\n",
              "    <tr>\n",
              "      <th>3</th>\n",
              "      <td>3</td>\n",
              "      <td>2022-11-20 23:58:33+00:00</td>\n",
              "      <td>1</td>\n",
              "      <td>Twitter Web App</td>\n",
              "      <td>Golden Maknae shinning bright\\n\\nhttps://t.co/...</td>\n",
              "      <td>1</td>\n",
              "    </tr>\n",
              "    <tr>\n",
              "      <th>4</th>\n",
              "      <td>4</td>\n",
              "      <td>2022-11-20 23:58:28+00:00</td>\n",
              "      <td>0</td>\n",
              "      <td>Twitter for Android</td>\n",
              "      <td>If the BBC cares so much about human rights, h...</td>\n",
              "      <td>0</td>\n",
              "    </tr>\n",
              "  </tbody>\n",
              "</table>\n",
              "</div>\n",
              "      <button class=\"colab-df-convert\" onclick=\"convertToInteractive('df-7e4e7f05-f829-4683-9d42-636f9e715e82')\"\n",
              "              title=\"Convert this dataframe to an interactive table.\"\n",
              "              style=\"display:none;\">\n",
              "        \n",
              "  <svg xmlns=\"http://www.w3.org/2000/svg\" height=\"24px\"viewBox=\"0 0 24 24\"\n",
              "       width=\"24px\">\n",
              "    <path d=\"M0 0h24v24H0V0z\" fill=\"none\"/>\n",
              "    <path d=\"M18.56 5.44l.94 2.06.94-2.06 2.06-.94-2.06-.94-.94-2.06-.94 2.06-2.06.94zm-11 1L8.5 8.5l.94-2.06 2.06-.94-2.06-.94L8.5 2.5l-.94 2.06-2.06.94zm10 10l.94 2.06.94-2.06 2.06-.94-2.06-.94-.94-2.06-.94 2.06-2.06.94z\"/><path d=\"M17.41 7.96l-1.37-1.37c-.4-.4-.92-.59-1.43-.59-.52 0-1.04.2-1.43.59L10.3 9.45l-7.72 7.72c-.78.78-.78 2.05 0 2.83L4 21.41c.39.39.9.59 1.41.59.51 0 1.02-.2 1.41-.59l7.78-7.78 2.81-2.81c.8-.78.8-2.07 0-2.86zM5.41 20L4 18.59l7.72-7.72 1.47 1.35L5.41 20z\"/>\n",
              "  </svg>\n",
              "      </button>\n",
              "      \n",
              "  <style>\n",
              "    .colab-df-container {\n",
              "      display:flex;\n",
              "      flex-wrap:wrap;\n",
              "      gap: 12px;\n",
              "    }\n",
              "\n",
              "    .colab-df-convert {\n",
              "      background-color: #E8F0FE;\n",
              "      border: none;\n",
              "      border-radius: 50%;\n",
              "      cursor: pointer;\n",
              "      display: none;\n",
              "      fill: #1967D2;\n",
              "      height: 32px;\n",
              "      padding: 0 0 0 0;\n",
              "      width: 32px;\n",
              "    }\n",
              "\n",
              "    .colab-df-convert:hover {\n",
              "      background-color: #E2EBFA;\n",
              "      box-shadow: 0px 1px 2px rgba(60, 64, 67, 0.3), 0px 1px 3px 1px rgba(60, 64, 67, 0.15);\n",
              "      fill: #174EA6;\n",
              "    }\n",
              "\n",
              "    [theme=dark] .colab-df-convert {\n",
              "      background-color: #3B4455;\n",
              "      fill: #D2E3FC;\n",
              "    }\n",
              "\n",
              "    [theme=dark] .colab-df-convert:hover {\n",
              "      background-color: #434B5C;\n",
              "      box-shadow: 0px 1px 3px 1px rgba(0, 0, 0, 0.15);\n",
              "      filter: drop-shadow(0px 1px 2px rgba(0, 0, 0, 0.3));\n",
              "      fill: #FFFFFF;\n",
              "    }\n",
              "  </style>\n",
              "\n",
              "      <script>\n",
              "        const buttonEl =\n",
              "          document.querySelector('#df-7e4e7f05-f829-4683-9d42-636f9e715e82 button.colab-df-convert');\n",
              "        buttonEl.style.display =\n",
              "          google.colab.kernel.accessAllowed ? 'block' : 'none';\n",
              "\n",
              "        async function convertToInteractive(key) {\n",
              "          const element = document.querySelector('#df-7e4e7f05-f829-4683-9d42-636f9e715e82');\n",
              "          const dataTable =\n",
              "            await google.colab.kernel.invokeFunction('convertToInteractive',\n",
              "                                                     [key], {});\n",
              "          if (!dataTable) return;\n",
              "\n",
              "          const docLinkHtml = 'Like what you see? Visit the ' +\n",
              "            '<a target=\"_blank\" href=https://colab.research.google.com/notebooks/data_table.ipynb>data table notebook</a>'\n",
              "            + ' to learn more about interactive tables.';\n",
              "          element.innerHTML = '';\n",
              "          dataTable['output_type'] = 'display_data';\n",
              "          await google.colab.output.renderOutput(dataTable, element);\n",
              "          const docLink = document.createElement('div');\n",
              "          docLink.innerHTML = docLinkHtml;\n",
              "          element.appendChild(docLink);\n",
              "        }\n",
              "      </script>\n",
              "    </div>\n",
              "  </div>\n",
              "  "
            ]
          },
          "metadata": {},
          "execution_count": 6
        }
      ]
    },
    {
      "cell_type": "code",
      "source": [
        "def preprocess(text):\n",
        "    # Converter o texto para minúsculo\n",
        "    text = text.lower()\n",
        "\n",
        "    # Remover números\n",
        "    text = re.sub(r'\\d+', '', text)\n",
        "\n",
        "    # Remover caracteres especiais e pontuação\n",
        "    text = re.sub(r'[^\\w\\s]', '', text)\n",
        "\n",
        "    # Remover stop words\n",
        "    stop_words = set(stopwords.words('english'))\n",
        "    tokens = nltk.word_tokenize(text)\n",
        "    tokens = [word for word in tokens if word not in stop_words]\n",
        "\n",
        "    # Remover palavras com menos de 3 caracteres\n",
        "    tokens = [word for word in tokens if len(word) > 2]\n",
        "\n",
        "    # Remover palavras com apenas uma letra\n",
        "    tokens = [word for word in tokens if len(word) > 1]\n",
        "\n",
        "    # Juntar as palavras em uma única string\n",
        "    preprocessed_text = ' '.join(tokens)\n",
        "\n",
        "    return preprocessed_text"
      ],
      "metadata": {
        "id": "oOZa6JWEPl3-"
      },
      "execution_count": null,
      "outputs": []
    },
    {
      "cell_type": "code",
      "source": [
        "# Aplicar a função preprocess à coluna de texto\n",
        "df['Tweet'] = df['Tweet'].apply(preprocess)\n",
        "\n",
        "# Exibir o DataFrame com a nova coluna de texto preprocessado\n",
        "df.head()"
      ],
      "metadata": {
        "colab": {
          "base_uri": "https://localhost:8080/",
          "height": 206
        },
        "id": "Cmcmcbvu8FgK",
        "outputId": "cef02a7b-54e1-4b19-9a5c-fc2b610e0752"
      },
      "execution_count": null,
      "outputs": [
        {
          "output_type": "execute_result",
          "data": {
            "text/plain": [
              "   Unnamed: 0               Date Created  Number of Likes  \\\n",
              "0           0  2022-11-20 23:59:21+00:00                4   \n",
              "1           1  2022-11-20 23:59:01+00:00                3   \n",
              "2           2  2022-11-20 23:58:41+00:00                1   \n",
              "3           3  2022-11-20 23:58:33+00:00                1   \n",
              "4           4  2022-11-20 23:58:28+00:00                0   \n",
              "\n",
              "       Source of Tweet                                              Tweet  \\\n",
              "0      Twitter Web App  drinking today tucantribe madbears_ lkinc_algo...   \n",
              "1   Twitter for iPhone  amazing canadasocceren worldcup launch video s...   \n",
              "2   Twitter for iPhone   worth reading watching worldcup httpstcosqrnadyu   \n",
              "3      Twitter Web App  golden maknae shinning bright httpstcoayzbzgtx...   \n",
              "4  Twitter for Android  bbc cares much human rights homosexual rights ...   \n",
              "\n",
              "   Sentiment  \n",
              "0          2  \n",
              "1          1  \n",
              "2          1  \n",
              "3          1  \n",
              "4          0  "
            ],
            "text/html": [
              "\n",
              "  <div id=\"df-24076658-c85c-4f34-958a-8d49886427f1\">\n",
              "    <div class=\"colab-df-container\">\n",
              "      <div>\n",
              "<style scoped>\n",
              "    .dataframe tbody tr th:only-of-type {\n",
              "        vertical-align: middle;\n",
              "    }\n",
              "\n",
              "    .dataframe tbody tr th {\n",
              "        vertical-align: top;\n",
              "    }\n",
              "\n",
              "    .dataframe thead th {\n",
              "        text-align: right;\n",
              "    }\n",
              "</style>\n",
              "<table border=\"1\" class=\"dataframe\">\n",
              "  <thead>\n",
              "    <tr style=\"text-align: right;\">\n",
              "      <th></th>\n",
              "      <th>Unnamed: 0</th>\n",
              "      <th>Date Created</th>\n",
              "      <th>Number of Likes</th>\n",
              "      <th>Source of Tweet</th>\n",
              "      <th>Tweet</th>\n",
              "      <th>Sentiment</th>\n",
              "    </tr>\n",
              "  </thead>\n",
              "  <tbody>\n",
              "    <tr>\n",
              "      <th>0</th>\n",
              "      <td>0</td>\n",
              "      <td>2022-11-20 23:59:21+00:00</td>\n",
              "      <td>4</td>\n",
              "      <td>Twitter Web App</td>\n",
              "      <td>drinking today tucantribe madbears_ lkinc_algo...</td>\n",
              "      <td>2</td>\n",
              "    </tr>\n",
              "    <tr>\n",
              "      <th>1</th>\n",
              "      <td>1</td>\n",
              "      <td>2022-11-20 23:59:01+00:00</td>\n",
              "      <td>3</td>\n",
              "      <td>Twitter for iPhone</td>\n",
              "      <td>amazing canadasocceren worldcup launch video s...</td>\n",
              "      <td>1</td>\n",
              "    </tr>\n",
              "    <tr>\n",
              "      <th>2</th>\n",
              "      <td>2</td>\n",
              "      <td>2022-11-20 23:58:41+00:00</td>\n",
              "      <td>1</td>\n",
              "      <td>Twitter for iPhone</td>\n",
              "      <td>worth reading watching worldcup httpstcosqrnadyu</td>\n",
              "      <td>1</td>\n",
              "    </tr>\n",
              "    <tr>\n",
              "      <th>3</th>\n",
              "      <td>3</td>\n",
              "      <td>2022-11-20 23:58:33+00:00</td>\n",
              "      <td>1</td>\n",
              "      <td>Twitter Web App</td>\n",
              "      <td>golden maknae shinning bright httpstcoayzbzgtx...</td>\n",
              "      <td>1</td>\n",
              "    </tr>\n",
              "    <tr>\n",
              "      <th>4</th>\n",
              "      <td>4</td>\n",
              "      <td>2022-11-20 23:58:28+00:00</td>\n",
              "      <td>0</td>\n",
              "      <td>Twitter for Android</td>\n",
              "      <td>bbc cares much human rights homosexual rights ...</td>\n",
              "      <td>0</td>\n",
              "    </tr>\n",
              "  </tbody>\n",
              "</table>\n",
              "</div>\n",
              "      <button class=\"colab-df-convert\" onclick=\"convertToInteractive('df-24076658-c85c-4f34-958a-8d49886427f1')\"\n",
              "              title=\"Convert this dataframe to an interactive table.\"\n",
              "              style=\"display:none;\">\n",
              "        \n",
              "  <svg xmlns=\"http://www.w3.org/2000/svg\" height=\"24px\"viewBox=\"0 0 24 24\"\n",
              "       width=\"24px\">\n",
              "    <path d=\"M0 0h24v24H0V0z\" fill=\"none\"/>\n",
              "    <path d=\"M18.56 5.44l.94 2.06.94-2.06 2.06-.94-2.06-.94-.94-2.06-.94 2.06-2.06.94zm-11 1L8.5 8.5l.94-2.06 2.06-.94-2.06-.94L8.5 2.5l-.94 2.06-2.06.94zm10 10l.94 2.06.94-2.06 2.06-.94-2.06-.94-.94-2.06-.94 2.06-2.06.94z\"/><path d=\"M17.41 7.96l-1.37-1.37c-.4-.4-.92-.59-1.43-.59-.52 0-1.04.2-1.43.59L10.3 9.45l-7.72 7.72c-.78.78-.78 2.05 0 2.83L4 21.41c.39.39.9.59 1.41.59.51 0 1.02-.2 1.41-.59l7.78-7.78 2.81-2.81c.8-.78.8-2.07 0-2.86zM5.41 20L4 18.59l7.72-7.72 1.47 1.35L5.41 20z\"/>\n",
              "  </svg>\n",
              "      </button>\n",
              "      \n",
              "  <style>\n",
              "    .colab-df-container {\n",
              "      display:flex;\n",
              "      flex-wrap:wrap;\n",
              "      gap: 12px;\n",
              "    }\n",
              "\n",
              "    .colab-df-convert {\n",
              "      background-color: #E8F0FE;\n",
              "      border: none;\n",
              "      border-radius: 50%;\n",
              "      cursor: pointer;\n",
              "      display: none;\n",
              "      fill: #1967D2;\n",
              "      height: 32px;\n",
              "      padding: 0 0 0 0;\n",
              "      width: 32px;\n",
              "    }\n",
              "\n",
              "    .colab-df-convert:hover {\n",
              "      background-color: #E2EBFA;\n",
              "      box-shadow: 0px 1px 2px rgba(60, 64, 67, 0.3), 0px 1px 3px 1px rgba(60, 64, 67, 0.15);\n",
              "      fill: #174EA6;\n",
              "    }\n",
              "\n",
              "    [theme=dark] .colab-df-convert {\n",
              "      background-color: #3B4455;\n",
              "      fill: #D2E3FC;\n",
              "    }\n",
              "\n",
              "    [theme=dark] .colab-df-convert:hover {\n",
              "      background-color: #434B5C;\n",
              "      box-shadow: 0px 1px 3px 1px rgba(0, 0, 0, 0.15);\n",
              "      filter: drop-shadow(0px 1px 2px rgba(0, 0, 0, 0.3));\n",
              "      fill: #FFFFFF;\n",
              "    }\n",
              "  </style>\n",
              "\n",
              "      <script>\n",
              "        const buttonEl =\n",
              "          document.querySelector('#df-24076658-c85c-4f34-958a-8d49886427f1 button.colab-df-convert');\n",
              "        buttonEl.style.display =\n",
              "          google.colab.kernel.accessAllowed ? 'block' : 'none';\n",
              "\n",
              "        async function convertToInteractive(key) {\n",
              "          const element = document.querySelector('#df-24076658-c85c-4f34-958a-8d49886427f1');\n",
              "          const dataTable =\n",
              "            await google.colab.kernel.invokeFunction('convertToInteractive',\n",
              "                                                     [key], {});\n",
              "          if (!dataTable) return;\n",
              "\n",
              "          const docLinkHtml = 'Like what you see? Visit the ' +\n",
              "            '<a target=\"_blank\" href=https://colab.research.google.com/notebooks/data_table.ipynb>data table notebook</a>'\n",
              "            + ' to learn more about interactive tables.';\n",
              "          element.innerHTML = '';\n",
              "          dataTable['output_type'] = 'display_data';\n",
              "          await google.colab.output.renderOutput(dataTable, element);\n",
              "          const docLink = document.createElement('div');\n",
              "          docLink.innerHTML = docLinkHtml;\n",
              "          element.appendChild(docLink);\n",
              "        }\n",
              "      </script>\n",
              "    </div>\n",
              "  </div>\n",
              "  "
            ]
          },
          "metadata": {},
          "execution_count": 8
        }
      ]
    },
    {
      "cell_type": "markdown",
      "source": [
        "#Preparação para o modelo"
      ],
      "metadata": {
        "id": "sVpGPrZJ5_i6"
      }
    },
    {
      "cell_type": "code",
      "source": [
        "# Separando em conjuntos de treino e teste\n",
        "X_train, X_test, y_train, y_test = train_test_split(df['Tweet'], df['Sentiment'], test_size=0.2, random_state=82)\n",
        "\n",
        "# Criando vetorizador de palavras\n",
        "vectorizer = CountVectorizer()\n",
        "\n",
        "# Transformando os textos em vetor de palavras\n",
        "X_train_vec = vectorizer.fit_transform(X_train)\n",
        "X_test_vec = vectorizer.transform(X_test)"
      ],
      "metadata": {
        "id": "-JpWEDj86FzR"
      },
      "execution_count": null,
      "outputs": []
    },
    {
      "cell_type": "markdown",
      "source": [
        "#01 - Naive Bayes\n"
      ],
      "metadata": {
        "id": "QcrkXj5D5Pj7"
      }
    },
    {
      "cell_type": "code",
      "source": [
        "from sklearn.naive_bayes import MultinomialNB\n",
        "\n",
        "\n",
        "# Criando modelo de classificação Naive Bayes\n",
        "nb = MultinomialNB()\n",
        "\n",
        "# Treinando o modelo com o conjunto de treino\n",
        "nb.fit(X_train_vec, y_train)\n",
        "\n",
        "# Prevendo o conjunto de teste\n",
        "y_pred = nb.predict(X_test_vec)\n",
        "\n",
        "# Avaliando a acurácia do modelo\n",
        "acc = accuracy_score(y_test, y_pred)\n",
        "print(\"Naive Bayes:\\n\")\n",
        "print(classification_report(y_test, y_pred))\n",
        "print(f'Acurácia: {acc:.2f}')"
      ],
      "metadata": {
        "colab": {
          "base_uri": "https://localhost:8080/"
        },
        "id": "tIIM4jQ6Xskh",
        "outputId": "c72ae8c8-f015-43bb-fcc8-247e73950d10"
      },
      "execution_count": null,
      "outputs": [
        {
          "output_type": "stream",
          "name": "stdout",
          "text": [
            "Naive Bayes:\n",
            "\n",
            "              precision    recall  f1-score   support\n",
            "\n",
            "           0       0.63      0.80      0.71      1104\n",
            "           1       0.74      0.73      0.74      1739\n",
            "           2       0.67      0.57      0.61      1662\n",
            "\n",
            "    accuracy                           0.68      4505\n",
            "   macro avg       0.68      0.70      0.68      4505\n",
            "weighted avg       0.69      0.68      0.68      4505\n",
            "\n",
            "Acurácia: 0.68\n"
          ]
        }
      ]
    },
    {
      "cell_type": "code",
      "source": [
        "import matplotlib.pyplot as plt\n",
        "from sklearn.metrics import ConfusionMatrixDisplay\n",
        "\n",
        "fig, ax = plt.subplots(figsize=(10, 5))\n",
        "ConfusionMatrixDisplay.from_predictions(y_test, y_pred, ax=ax)\n",
        "_ = ax.set_title(f\"Matriz de Confusão - Naive Bayes\")"
      ],
      "metadata": {
        "colab": {
          "base_uri": "https://localhost:8080/",
          "height": 487
        },
        "id": "0UdkPS1RvcPz",
        "outputId": "b460bbb6-ff97-4732-a104-3688d3e9badd"
      },
      "execution_count": null,
      "outputs": [
        {
          "output_type": "display_data",
          "data": {
            "text/plain": [
              "<Figure size 1000x500 with 2 Axes>"
            ],
            "image/png": "[encoded data removed]"
          },
          "metadata": {}
        }
      ]
    },
    {
      "cell_type": "code",
      "source": [
        "# Testando com um comentário próprio\n",
        "#comment = \"He is just a man\"\n",
        "#comment = \"He is a good man\"\n",
        "comment = \"He is a bad man\"\n",
        "comment_processed = preprocess(comment)\n",
        "comment_vec = vectorizer.transform([comment_processed])\n",
        "prediction = nb.predict(comment_vec)\n",
        "\n",
        "# Imprimindo a previsão\n",
        "if prediction[0] == 0:\n",
        "    print(\"O modelo prevê que o comentário negativo.\")\n",
        "if prediction[0] == 1:\n",
        "    print(\"O modelo prevê que o comentário é positivo.\")\n",
        "if prediction[0] == 2:\n",
        "    print(\"O modelo prevê que o comentário é neutro.\")"
      ],
      "metadata": {
        "colab": {
          "base_uri": "https://localhost:8080/"
        },
        "id": "xHx0N_QjbEB0",
        "outputId": "12caf72e-17ac-4d32-f85b-28559207ddc2"
      },
      "execution_count": null,
      "outputs": [
        {
          "output_type": "stream",
          "name": "stdout",
          "text": [
            "O modelo prevê que o comentário negativo.\n"
          ]
        }
      ]
    },
    {
      "cell_type": "markdown",
      "source": [
        "# 02 - Árvore de Decisão"
      ],
      "metadata": {
        "id": "-T64qecnjkU5"
      }
    },
    {
      "cell_type": "code",
      "source": [
        "from sklearn.tree import DecisionTreeClassifier\n",
        "\n",
        "\n",
        "# Criando modelo de classificação Árvore de Decisão\n",
        "dt = DecisionTreeClassifier(random_state=42)\n",
        "\n",
        "# Treinando o modelo com o conjunto de treino\n",
        "dt.fit(X_train_vec, y_train)\n",
        "\n",
        "# Prevendo o conjunto de teste\n",
        "y_pred = dt.predict(X_test_vec)\n",
        "\n",
        "# Avaliando a acurácia do modelo\n",
        "acc = accuracy_score(y_test, y_pred)\n",
        "print(\"Árvore de Decisão:\\n\")\n",
        "print(classification_report(y_test, y_pred))\n",
        "print(f'Acurácia: {acc:.2f}')"
      ],
      "metadata": {
        "colab": {
          "base_uri": "https://localhost:8080/"
        },
        "id": "MGMCftpPjlBR",
        "outputId": "8e939633-7d66-480d-c974-2315d65b8c4d"
      },
      "execution_count": null,
      "outputs": [
        {
          "output_type": "stream",
          "name": "stdout",
          "text": [
            "Árvore de Decisão:\n",
            "\n",
            "              precision    recall  f1-score   support\n",
            "\n",
            "           0       0.61      0.56      0.58      1104\n",
            "           1       0.67      0.69      0.68      1739\n",
            "           2       0.60      0.61      0.60      1662\n",
            "\n",
            "    accuracy                           0.63      4505\n",
            "   macro avg       0.63      0.62      0.62      4505\n",
            "weighted avg       0.63      0.63      0.63      4505\n",
            "\n",
            "Acurácia: 0.63\n"
          ]
        }
      ]
    },
    {
      "cell_type": "code",
      "source": [
        "import matplotlib.pyplot as plt\n",
        "from sklearn.metrics import ConfusionMatrixDisplay\n",
        "\n",
        "fig, ax = plt.subplots(figsize=(10, 5))\n",
        "ConfusionMatrixDisplay.from_predictions(y_test, y_pred, ax=ax)\n",
        "_ = ax.set_title(f\"Matriz de Confusão - Árvore de Decisão\")"
      ],
      "metadata": {
        "colab": {
          "base_uri": "https://localhost:8080/",
          "height": 487
        },
        "id": "JLn3RSfA8QMA",
        "outputId": "44e281fd-91d9-441e-cc03-bf9768bf596c"
      },
      "execution_count": null,
      "outputs": [
        {
          "output_type": "display_data",
          "data": {
            "text/plain": [
              "<Figure size 1000x500 with 2 Axes>"
            ],
            "image/png": "[encoded data removed]"
          },
          "metadata": {}
        }
      ]
    },
    {
      "cell_type": "code",
      "source": [
        "# Testando com um comentário próprio\n",
        "#comment = \"He is just a man\"\n",
        "comment = \"He is a good man\"\n",
        "#comment = \"He is a bad man\"\n",
        "comment_processed = preprocess(comment)\n",
        "comment_vec = vectorizer.transform([comment_processed])\n",
        "prediction = dt.predict(comment_vec)\n",
        "# Imprimindo a previsão\n",
        "print(prediction)\n",
        "\n",
        "# Imprimindo a previsão\n",
        "if prediction[0] == 0:\n",
        "    print(\"O modelo prevê que o comentário negativo.\")\n",
        "if prediction[0] == 1:\n",
        "    print(\"O modelo prevê que o comentário é positivo.\")\n",
        "if prediction[0] == 2:\n",
        "    print(\"O modelo prevê que o comentário é neutro.\")"
      ],
      "metadata": {
        "colab": {
          "base_uri": "https://localhost:8080/"
        },
        "id": "4wzqnEIDlB74",
        "outputId": "61b4782d-b3ba-4258-deaa-31a606ea059e"
      },
      "execution_count": null,
      "outputs": [
        {
          "output_type": "stream",
          "name": "stdout",
          "text": [
            "[1]\n",
            "O modelo prevê que o comentário é positivo.\n"
          ]
        }
      ]
    },
    {
      "cell_type": "markdown",
      "source": [
        "#03 - Regressão Logística"
      ],
      "metadata": {
        "id": "bnDW20jWlUxv"
      }
    },
    {
      "cell_type": "code",
      "source": [
        "from sklearn.linear_model import LogisticRegression\n",
        "\n",
        "# Criando modelo de Regressão Logística\n",
        "lr = LogisticRegression()\n",
        "\n",
        "# Treinando o modelo com o conjunto de treino\n",
        "lr.fit(X_train_vec, y_train)\n",
        "\n",
        "# Prevendo o conjunto de teste\n",
        "y_pred = lr.predict(X_test_vec)\n",
        "\n",
        "# Avaliando a acurácia do modelo\n",
        "acc = accuracy_score(y_test, y_pred)\n",
        "print(\"Regressão Logística:\\n\")\n",
        "print(classification_report(y_test, y_pred))\n",
        "print(f'Acurácia: {acc:.2f}')"
      ],
      "metadata": {
        "id": "LiqlASJrlvCA",
        "colab": {
          "base_uri": "https://localhost:8080/"
        },
        "outputId": "5198816a-ca07-41f4-d5ba-42b5e9026509"
      },
      "execution_count": null,
      "outputs": [
        {
          "output_type": "stream",
          "name": "stdout",
          "text": [
            "Regressão Logística:\n",
            "\n",
            "              precision    recall  f1-score   support\n",
            "\n",
            "           0       0.75      0.68      0.71      1104\n",
            "           1       0.75      0.75      0.75      1739\n",
            "           2       0.66      0.71      0.68      1662\n",
            "\n",
            "    accuracy                           0.72      4505\n",
            "   macro avg       0.72      0.71      0.72      4505\n",
            "weighted avg       0.72      0.72      0.72      4505\n",
            "\n",
            "Acurácia: 0.72\n"
          ]
        },
        {
          "output_type": "stream",
          "name": "stderr",
          "text": [
            "/usr/local/lib/python3.10/dist-packages/sklearn/linear_model/_logistic.py:458: ConvergenceWarning: lbfgs failed to converge (status=1):\n",
            "STOP: TOTAL NO. of ITERATIONS REACHED LIMIT.\n",
            "\n",
            "Increase the number of iterations (max_iter) or scale the data as shown in:\n",
            "    https://scikit-learn.org/stable/modules/preprocessing.html\n",
            "Please also refer to the documentation for alternative solver options:\n",
            "    https://scikit-learn.org/stable/modules/linear_model.html#logistic-regression\n",
            "  n_iter_i = _check_optimize_result(\n"
          ]
        }
      ]
    },
    {
      "cell_type": "code",
      "source": [
        "import matplotlib.pyplot as plt\n",
        "from sklearn.metrics import ConfusionMatrixDisplay\n",
        "\n",
        "fig, ax = plt.subplots(figsize=(10, 5))\n",
        "ConfusionMatrixDisplay.from_predictions(y_test, y_pred, ax=ax)\n",
        "_ = ax.set_title(f\"Matriz de Confusão - Regressão Logística\")"
      ],
      "metadata": {
        "colab": {
          "base_uri": "https://localhost:8080/",
          "height": 488
        },
        "id": "LTBIeM6OFPzp",
        "outputId": "fa9a341f-11c8-46ad-ded7-6e000897e18f"
      },
      "execution_count": null,
      "outputs": [
        {
          "output_type": "display_data",
          "data": {
            "text/plain": [
              "<Figure size 1000x500 with 2 Axes>"
            ],
            "image/png": "[encoded data removed]"
          },
          "metadata": {}
        }
      ]
    },
    {
      "cell_type": "code",
      "source": [
        "# Testando com um comentário próprio\n",
        "#comment = \"He is just a player\"\n",
        "#comment = \"he played bad\"\n",
        "comment = \"He is a good man, but need to be more confident\"\n",
        "comment_processed = preprocess(comment)\n",
        "comment_vec = vectorizer.transform([comment_processed])\n",
        "prediction = dt.predict(comment_vec)\n",
        "# Imprimindo a previsão\n",
        "print(prediction)\n",
        "\n",
        "# Imprimindo a previsão\n",
        "if prediction[0] == 0:\n",
        "    print(\"O modelo prevê que o comentário negativo.\")\n",
        "if prediction[0] == 1:\n",
        "    print(\"O modelo prevê que o comentário é positivo.\")\n",
        "if prediction[0] == 2:\n",
        "    print(\"O modelo prevê que o comentário é neutro.\")"
      ],
      "metadata": {
        "id": "xAjCNqVSnbDe",
        "colab": {
          "base_uri": "https://localhost:8080/"
        },
        "outputId": "675e4c7a-e4d2-4ce5-cd24-a32b44641228"
      },
      "execution_count": null,
      "outputs": [
        {
          "output_type": "stream",
          "name": "stdout",
          "text": [
            "[1]\n",
            "O modelo prevê que o comentário é positivo.\n"
          ]
        }
      ]
    },
    {
      "cell_type": "markdown",
      "source": [
        "# 04 - Random Forest"
      ],
      "metadata": {
        "id": "e9KauCL6EzGK"
      }
    },
    {
      "cell_type": "code",
      "source": [
        "from sklearn.ensemble import RandomForestClassifier\n",
        "\n",
        "# Criando modelo de Random Forest\n",
        "rf = RandomForestClassifier()\n",
        "\n",
        "# Treinando o modelo com o conjunto de treino\n",
        "rf.fit(X_train_vec, y_train)\n",
        "\n",
        "# Prevendo o conjunto de teste\n",
        "y_pred_rf = rf.predict(X_test_vec)\n",
        "\n",
        "# Avaliando a acurácia do modelo\n",
        "acc = accuracy_score(y_test, y_pred)\n",
        "print(\"Random Forest:\\n\")\n",
        "print(classification_report(y_test, y_pred))\n",
        "print(f'Acurácia: {acc:.2f}')"
      ],
      "metadata": {
        "colab": {
          "base_uri": "https://localhost:8080/"
        },
        "id": "qpD07aiG_zEn",
        "outputId": "d83a97ac-3559-4b30-f3e1-e4c0b45bbafe"
      },
      "execution_count": null,
      "outputs": [
        {
          "output_type": "stream",
          "name": "stdout",
          "text": [
            "Random Forest:\n",
            "\n",
            "              precision    recall  f1-score   support\n",
            "\n",
            "           0       0.75      0.68      0.71      1104\n",
            "           1       0.75      0.75      0.75      1739\n",
            "           2       0.66      0.71      0.68      1662\n",
            "\n",
            "    accuracy                           0.72      4505\n",
            "   macro avg       0.72      0.71      0.72      4505\n",
            "weighted avg       0.72      0.72      0.72      4505\n",
            "\n",
            "Acurácia: 0.72\n"
          ]
        }
      ]
    },
    {
      "cell_type": "code",
      "source": [
        "import matplotlib.pyplot as plt\n",
        "from sklearn.metrics import ConfusionMatrixDisplay\n",
        "\n",
        "fig, ax = plt.subplots(figsize=(10, 5))\n",
        "ConfusionMatrixDisplay.from_predictions(y_test, y_pred, ax=ax)\n",
        "_ = ax.set_title(f\"Matriz de Confusão - Regressão Logística\")"
      ],
      "metadata": {
        "colab": {
          "base_uri": "https://localhost:8080/",
          "height": 488
        },
        "id": "BxEi4jmJGqYg",
        "outputId": "234211e3-045c-48f4-908b-a60402bb0475"
      },
      "execution_count": null,
      "outputs": [
        {
          "output_type": "display_data",
          "data": {
            "text/plain": [
              "<Figure size 1000x500 with 2 Axes>"
            ],
            "image/png": "[encoded data removed]"
          },
          "metadata": {}
        }
      ]
    },
    {
      "cell_type": "code",
      "source": [
        "# Testando com um comentário próprio\n",
        "#comment = \"He is just a player\"\n",
        "comment = \"the player kicked the ball carelessly, played bad\"\n",
        "#comment = \"He is a good man, but need to be more confident\"\n",
        "comment_processed = preprocess(comment)\n",
        "comment_vec = vectorizer.transform([comment_processed])\n",
        "prediction = dt.predict(comment_vec)\n",
        "# Imprimindo a previsão\n",
        "print(prediction)\n",
        "\n",
        "# Imprimindo a previsão\n",
        "if prediction[0] == 0:\n",
        "    print(\"O modelo prevê que o comentário negativo.\")\n",
        "if prediction[0] == 1:\n",
        "    print(\"O modelo prevê que o comentário é positivo.\")\n",
        "if prediction[0] == 2:\n",
        "    print(\"O modelo prevê que o comentário é neutro.\")"
      ],
      "metadata": {
        "colab": {
          "base_uri": "https://localhost:8080/"
        },
        "id": "jgi5d3RyG1dD",
        "outputId": "94b93f03-602c-4573-c840-4e9ffec66716"
      },
      "execution_count": null,
      "outputs": [
        {
          "output_type": "stream",
          "name": "stdout",
          "text": [
            "[0]\n",
            "O modelo prevê que o comentário negativo.\n"
          ]
        }
      ]
    }
  ]
}